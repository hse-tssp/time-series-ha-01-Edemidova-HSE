{
 "cells": [
  {
   "cell_type": "markdown",
   "metadata": {},
   "source": [
    "## Time Series Analysis: Home Assignment 1"
   ]
  },
  {
   "cell_type": "markdown",
   "metadata": {},
   "source": [
    "due to **11.02.21 23:00**\n",
    "\n",
    "You need to upload HA1 to github repository,  the link will be provided later."
   ]
  },
  {
   "cell_type": "markdown",
   "metadata": {},
   "source": [
    "Enter your name below: "
   ]
  },
  {
   "cell_type": "code",
   "execution_count": 2,
   "metadata": {},
   "outputs": [],
   "source": [
    "name='Demydova,Olena' "
   ]
  },
  {
   "cell_type": "markdown",
   "metadata": {},
   "source": [
    "### Contents"
   ]
  },
  {
   "cell_type": "markdown",
   "metadata": {},
   "source": [
    "1. **Data preparation (7 points)**\n",
    "\n",
    "    $1.0$ Download data and import functions\n",
    "    \n",
    "    $1.1$ Read data (1 pt.)\n",
    "    \n",
    "    $1.2$ Check NAs (1 pt.)\n",
    "    \n",
    "    $1.3$ Transform dates (2 pt.)\n",
    "    \n",
    "    $1.4$. Make some plots (0.75 pt.)\n",
    "    \n",
    "    $1.5$ Split the data (0.75 pt.)\n",
    "    \n",
    " \n",
    "2. **ETS (7 points)**\n",
    "\n",
    "    $2.1$ Estimate ETS (1 pt.)\n",
    "    \n",
    "    $2.2$ Point forecasts (1 pt.)\n",
    "    \n",
    "    $2.3$ Interval forecasts 1 (1 pt.)\n",
    "    \n",
    "    $2.4$ Interval forecasts 2 (1 pt.)\n",
    "    \n",
    "    $2.5$ Forecast quality metrics (2 pt.)\n",
    "    \n",
    "    $2.6$ Model comparison (1 pt.)\n",
    "    "
   ]
  },
  {
   "cell_type": "markdown",
   "metadata": {},
   "source": [
    "## 1. Data preparation (7 pt.)"
   ]
  },
  {
   "cell_type": "markdown",
   "metadata": {},
   "source": [
    "### 1.0 Download data and import functions\n",
    "[back to contents](#Contents)"
   ]
  },
  {
   "cell_type": "markdown",
   "metadata": {},
   "source": [
    "You have to download [BI_TSA_HA_1_data.csv](https://github.com/bdemeshev/ts603/blob/master/2021-spring/BI_TSA_HA_1_data.csv), which represents quarterly sales of Walmart from 1984 to 2020. The sourse of the data is [ycharts.com](https://ycharts.com/companies/WMT/revenues). "
   ]
  },
  {
   "cell_type": "code",
   "execution_count": 20,
   "metadata": {},
   "outputs": [],
   "source": [
    "import pandas as pd\n",
    "import numpy as np\n",
    "from sktime.utils.plotting import plot_series\n",
    "from sktime.forecasting.model_selection import temporal_train_test_split\n",
    "from statsmodels.tsa.exponential_smoothing.ets import ETSModel\n",
    "from sklearn.metrics import  mean_absolute_error, mean_squared_error"
   ]
  },
  {
   "cell_type": "markdown",
   "metadata": {},
   "source": [
    "### 1.1 Read data (1 pt.)\n",
    "[back to contents](#Contents)"
   ]
  },
  {
   "cell_type": "markdown",
   "metadata": {},
   "source": [
    "Read the downloaded data from your local computer and name it ``` df ```\n",
    "\n",
    "Alternatively, you can skip 1.0 and access data directly putting ```'https://raw.github.com/bdemeshev/ts603/master/2021-spring/BI_TSA_HA_1_data.csv'``` inside ```read_csv```\n",
    "\n",
    "use ``` pd.read_csv('... .csv') ```"
   ]
  },
  {
   "cell_type": "code",
   "execution_count": 21,
   "metadata": {},
   "outputs": [],
   "source": [
    "df = pd.read_csv('https://raw.github.com/bdemeshev/ts603/master/2021-spring/BI_TSA_HA_1_data.csv')\n"
   ]
  },
  {
   "cell_type": "markdown",
   "metadata": {},
   "source": [
    "### 1.2 Check NAs (1 pt.)\n",
    "[back to contents](#Contents)"
   ]
  },
  {
   "cell_type": "markdown",
   "metadata": {},
   "source": [
    "Check whether ``` df ``` contains missing values(NAs):\n",
    "\n",
    "apply ``` isna().value_counts() ``` to ``` df ```"
   ]
  },
  {
   "cell_type": "code",
   "execution_count": 22,
   "metadata": {},
   "outputs": [
    {
     "data": {
      "text/plain": [
       "sales  month  day    year \n",
       "False  False  False  False    147\n",
       "dtype: int64"
      ]
     },
     "execution_count": 22,
     "metadata": {},
     "output_type": "execute_result"
    }
   ],
   "source": [
    "df.isna().value_counts() "
   ]
  },
  {
   "cell_type": "markdown",
   "metadata": {},
   "source": [
    "How many missing values are there in ``` df ```?"
   ]
  },
  {
   "cell_type": "code",
   "execution_count": null,
   "metadata": {},
   "outputs": [],
   "source": [
    "#  None"
   ]
  },
  {
   "cell_type": "markdown",
   "metadata": {},
   "source": [
    "### 1.3 Dates transformation (2 pt.)\n",
    "[back to contents](#Contents)"
   ]
  },
  {
   "cell_type": "markdown",
   "metadata": {},
   "source": [
    "How are dates represented in the original dataset? "
   ]
  },
  {
   "cell_type": "code",
   "execution_count": 23,
   "metadata": {},
   "outputs": [
    {
     "name": "stdout",
     "output_type": "stream",
     "text": [
      "sales    float64\n",
      "month      int64\n",
      "day        int64\n",
      "year       int64\n",
      "dtype: object\n"
     ]
    }
   ],
   "source": [
    "print(df.dtypes)"
   ]
  },
  {
   "cell_type": "markdown",
   "metadata": {},
   "source": [
    "Transform dates to datetime format:\n",
    "\n",
    "``` df['date']=df['...']*10000+df['...']*100+df['...']*1 ```\n",
    "\n",
    "``` df['date']=pd.to_datetime(df['date'], format='%Y%m%d') ```\n",
    "\n",
    "change each ``` df['...'] ``` to one of ``` df['month'] ```, ``` df['year'] ```, ``` df['day'] ```according to ``` format='%Y%m%d'```"
   ]
  },
  {
   "cell_type": "code",
   "execution_count": 24,
   "metadata": {},
   "outputs": [],
   "source": [
    "df['date'] = df['year']*10000+df['month']*100+df['day']*1 "
   ]
  },
  {
   "cell_type": "code",
   "execution_count": 25,
   "metadata": {},
   "outputs": [],
   "source": [
    "df['date']=pd.to_datetime(df['date'], format='%Y%m%d')"
   ]
  },
  {
   "cell_type": "markdown",
   "metadata": {},
   "source": [
    "Change index to dates:\n",
    "\n",
    "``` df.index=.... ```"
   ]
  },
  {
   "cell_type": "code",
   "execution_count": 26,
   "metadata": {},
   "outputs": [],
   "source": [
    "df.index=df['date']"
   ]
  },
  {
   "cell_type": "code",
   "execution_count": 6,
   "metadata": {},
   "outputs": [],
   "source": [
    "# 147,5"
   ]
  },
  {
   "cell_type": "markdown",
   "metadata": {},
   "source": [
    "What is the size of the dataset?\n",
    "\n",
    "use ```.shape```"
   ]
  },
  {
   "cell_type": "code",
   "execution_count": 27,
   "metadata": {},
   "outputs": [
    {
     "data": {
      "text/plain": [
       "(147, 5)"
      ]
     },
     "execution_count": 27,
     "metadata": {},
     "output_type": "execute_result"
    }
   ],
   "source": [
    "df.shape"
   ]
  },
  {
   "cell_type": "markdown",
   "metadata": {},
   "source": [
    "Drop columns ['day', 'year','month','date']:\n",
    "\n",
    "```df=df.drop(..., axis=1)```"
   ]
  },
  {
   "cell_type": "code",
   "execution_count": 28,
   "metadata": {},
   "outputs": [],
   "source": [
    "df=df.drop(['day','year' ,'month','date'], axis=1)"
   ]
  },
  {
   "cell_type": "markdown",
   "metadata": {},
   "source": [
    "What is the size of the dataset now?"
   ]
  },
  {
   "cell_type": "code",
   "execution_count": 29,
   "metadata": {},
   "outputs": [
    {
     "data": {
      "text/plain": [
       "(147, 1)"
      ]
     },
     "execution_count": 29,
     "metadata": {},
     "output_type": "execute_result"
    }
   ],
   "source": [
    "df.shape"
   ]
  },
  {
   "cell_type": "code",
   "execution_count": 32,
   "metadata": {},
   "outputs": [
    {
     "data": {
      "text/plain": [
       "<bound method NDFrame.describe of        sales\n",
       "0    134.710\n",
       "1    137.740\n",
       "2    134.620\n",
       "3    141.670\n",
       "4    127.990\n",
       "..       ...\n",
       "142    1.656\n",
       "143    2.074\n",
       "144    1.584\n",
       "145    1.508\n",
       "146    1.235\n",
       "\n",
       "[147 rows x 1 columns]>"
      ]
     },
     "execution_count": 32,
     "metadata": {},
     "output_type": "execute_result"
    }
   ],
   "source": [
    "# 147,1"
   ]
  },
  {
   "cell_type": "markdown",
   "metadata": {},
   "source": [
    "### 1.4 Plot data (0.75 pt.)\n",
    "[back to contents](#Contents)"
   ]
  },
  {
   "cell_type": "markdown",
   "metadata": {},
   "source": [
    "transform data frame column to series:\n",
    "\n",
    "```y=df['date']```"
   ]
  },
  {
   "cell_type": "code",
   "execution_count": 30,
   "metadata": {},
   "outputs": [],
   "source": [
    "y=df['sales']"
   ]
  },
  {
   "cell_type": "code",
   "execution_count": 31,
   "metadata": {},
   "outputs": [],
   "source": [
    "y=np.flip(y)"
   ]
  },
  {
   "cell_type": "markdown",
   "metadata": {},
   "source": [
    "```plot_series``` gets a series as an argument, whose dates sorted in ascending order.\n",
    "Transform your time series by changing descending order to ascending order:\n",
    "\n",
    "apply ```np.flip``` to ```y``` and name the result ```y```"
   ]
  },
  {
   "cell_type": "code",
   "execution_count": 32,
   "metadata": {},
   "outputs": [
    {
     "data": {
      "text/plain": [
       "(<Figure size 1152x288 with 1 Axes>, <AxesSubplot:ylabel='sales'>)"
      ]
     },
     "execution_count": 32,
     "metadata": {},
     "output_type": "execute_result"
    },
    {
     "data": {
      "image/png": "[encoded data removed]",
      "text/plain": [
       "<Figure size 1152x288 with 1 Axes>"
      ]
     },
     "metadata": {
      "needs_background": "light"
     },
     "output_type": "display_data"
    }
   ],
   "source": [
    "plot_series(y)"
   ]
  },
  {
   "cell_type": "markdown",
   "metadata": {},
   "source": [
    "Plot the series using ```plot_series()```"
   ]
  },
  {
   "cell_type": "code",
   "execution_count": null,
   "metadata": {},
   "outputs": [],
   "source": [
    "# code here (0.25 pt.)"
   ]
  },
  {
   "cell_type": "markdown",
   "metadata": {},
   "source": [
    "### 1.5 Split data (0.75 pt.)\n",
    "[back to contents](#Contents)"
   ]
  },
  {
   "cell_type": "markdown",
   "metadata": {},
   "source": [
    "Split the data into train and test samples:\n",
    "\n",
    "``` temporal_train_test_split(...) ```\n",
    "\n",
    "choose ``` test_size=0.2 ```"
   ]
  },
  {
   "cell_type": "code",
   "execution_count": 33,
   "metadata": {},
   "outputs": [
    {
     "data": {
      "image/png": "[encoded data removed]",
      "text/plain": [
       "<Figure size 1152x288 with 1 Axes>"
      ]
     },
     "metadata": {
      "needs_background": "light"
     },
     "output_type": "display_data"
    }
   ],
   "source": [
    "from sktime.forecasting.model_selection import temporal_train_test_split\n",
    "y_train, y_test = temporal_train_test_split(y, test_size=0.2)\n",
    "plot_series(y_train, y_test, labels=['Train', 'Test']);"
   ]
  },
  {
   "cell_type": "code",
   "execution_count": null,
   "metadata": {},
   "outputs": [],
   "source": [
    "plot train and test samples using ``` plot_series ```"
   ]
  },
  {
   "cell_type": "code",
   "execution_count": 11,
   "metadata": {},
   "outputs": [],
   "source": []
  },
  {
   "cell_type": "markdown",
   "metadata": {},
   "source": [
    "## 2. ETS (7 pt.)"
   ]
  },
  {
   "cell_type": "markdown",
   "metadata": {},
   "source": [
    "### 2.1 Estimate ETS (MAA) and (AAM) (1 pt.)\n",
    "[back to contents](#Contents)"
   ]
  },
  {
   "cell_type": "markdown",
   "metadata": {},
   "source": [
    "Start with ETS (MAA). Estimate the model and name it ```model_MAA```:\n",
    "\n",
    "```ETSModel(..., error='...', trend='...', seasonal='...', seasonal_periods=...)```\n",
    "\n",
    "```fit_MAA=model_MAA.fit()```\n"
   ]
  },
  {
   "cell_type": "code",
   "execution_count": 53,
   "metadata": {},
   "outputs": [
    {
     "name": "stderr",
     "output_type": "stream",
     "text": [
      "C:\\Users\\admin\\anaconda3\\lib\\site-packages\\statsmodels\\tsa\\base\\tsa_model.py:524: ValueWarning: No frequency information was provided, so inferred frequency Q-OCT will be used.\n",
      "  warnings.warn('No frequency information was'\n"
     ]
    }
   ],
   "source": [
    "from statsmodels.tsa.exponential_smoothing.ets import ETSModel\n",
    "model_MAA = ETSModel(y_train,error='mul', trend='add', seasonal='add', seasonal_periods=4)\n",
    "fit_MAA=model_MAA.fit()"
   ]
  },
  {
   "cell_type": "markdown",
   "metadata": {},
   "source": [
    "Estimate ETS (AAM) with the same characteristics:\n",
    "    \n",
    "```ETSModel(..., error='...', trend='...', seasonal='...', seasonal_periods=...)```\n",
    "\n",
    "```fit_AAM=model_AAM.fit()```\n"
   ]
  },
  {
   "cell_type": "code",
   "execution_count": 54,
   "metadata": {},
   "outputs": [
    {
     "name": "stderr",
     "output_type": "stream",
     "text": [
      "C:\\Users\\admin\\anaconda3\\lib\\site-packages\\statsmodels\\tsa\\base\\tsa_model.py:524: ValueWarning: No frequency information was provided, so inferred frequency Q-OCT will be used.\n",
      "  warnings.warn('No frequency information was'\n"
     ]
    }
   ],
   "source": [
    "from statsmodels.tsa.exponential_smoothing.ets import ETSModel\n",
    "model_AAM = ETSModel(y_train,error='mul', trend='add', seasonal='add', seasonal_periods=4)\n",
    "fit_AAM=model_AAM.fit()"
   ]
  },
  {
   "cell_type": "markdown",
   "metadata": {},
   "source": [
    "### 2.2 Point forecasts (1 pt.)\n",
    "[back to contents](#Contents)"
   ]
  },
  {
   "cell_type": "markdown",
   "metadata": {},
   "source": [
    "Obtain point forecasts for ETS(MAA) with forecasting horizon=30 quarters:\n",
    "\n",
    "```fit_MAA.forecast(steps=...)```"
   ]
  },
  {
   "cell_type": "code",
   "execution_count": 88,
   "metadata": {},
   "outputs": [
    {
     "data": {
      "text/plain": [
       "2013-07-31    117.848870\n",
       "2013-10-31    117.364671\n",
       "2014-01-31    130.725436\n",
       "2014-04-30    117.901780\n",
       "2014-07-31    121.230477\n",
       "2014-10-31    120.746277\n",
       "2015-01-31    134.107043\n",
       "2015-04-30    121.283386\n",
       "2015-07-31    124.612083\n",
       "2015-10-31    124.127884\n",
       "2016-01-31    137.488649\n",
       "2016-04-30    124.664993\n",
       "2016-07-31    127.993690\n",
       "2016-10-31    127.509490\n",
       "2017-01-31    140.870256\n",
       "2017-04-30    128.046600\n",
       "2017-07-31    131.375296\n",
       "2017-10-31    130.891097\n",
       "2018-01-31    144.251863\n",
       "2018-04-30    131.428206\n",
       "2018-07-31    134.756903\n",
       "2018-10-31    134.272704\n",
       "2019-01-31    147.633469\n",
       "2019-04-30    134.809813\n",
       "2019-07-31    138.138510\n",
       "2019-10-31    137.654310\n",
       "2020-01-31    151.015076\n",
       "2020-04-30    138.191419\n",
       "2020-07-31    141.520116\n",
       "2020-10-31    141.035917\n",
       "Freq: Q-OCT, Name: simulation, dtype: float64"
      ]
     },
     "execution_count": 88,
     "metadata": {},
     "output_type": "execute_result"
    }
   ],
   "source": [
    "fit_MAA.forecast(steps=30)"
   ]
  },
  {
   "cell_type": "markdown",
   "metadata": {},
   "source": [
    "Obtain point forecasts for ETS(AAM) with forecasting horizon=30 quarters:\n",
    "\n",
    "```fit_AAM.forecast(steps=...)```"
   ]
  },
  {
   "cell_type": "code",
   "execution_count": 87,
   "metadata": {},
   "outputs": [
    {
     "data": {
      "text/plain": [
       "2013-07-31    117.848870\n",
       "2013-10-31    117.364671\n",
       "2014-01-31    130.725436\n",
       "2014-04-30    117.901780\n",
       "2014-07-31    121.230477\n",
       "2014-10-31    120.746277\n",
       "2015-01-31    134.107043\n",
       "2015-04-30    121.283386\n",
       "2015-07-31    124.612083\n",
       "2015-10-31    124.127884\n",
       "2016-01-31    137.488649\n",
       "2016-04-30    124.664993\n",
       "2016-07-31    127.993690\n",
       "2016-10-31    127.509490\n",
       "2017-01-31    140.870256\n",
       "2017-04-30    128.046600\n",
       "2017-07-31    131.375296\n",
       "2017-10-31    130.891097\n",
       "2018-01-31    144.251863\n",
       "2018-04-30    131.428206\n",
       "2018-07-31    134.756903\n",
       "2018-10-31    134.272704\n",
       "2019-01-31    147.633469\n",
       "2019-04-30    134.809813\n",
       "2019-07-31    138.138510\n",
       "2019-10-31    137.654310\n",
       "2020-01-31    151.015076\n",
       "2020-04-30    138.191419\n",
       "2020-07-31    141.520116\n",
       "2020-10-31    141.035917\n",
       "Freq: Q-OCT, Name: simulation, dtype: float64"
      ]
     },
     "execution_count": 87,
     "metadata": {},
     "output_type": "execute_result"
    }
   ],
   "source": [
    "fit_AAM.forecast(steps=30)"
   ]
  },
  {
   "cell_type": "markdown",
   "metadata": {},
   "source": [
    "Plot both forecasts (AAM) and (MAA), test and train data\n",
    "\n",
    "```plot_series()```"
   ]
  },
  {
   "cell_type": "code",
   "execution_count": 89,
   "metadata": {},
   "outputs": [
    {
     "data": {
      "image/png": "[encoded data removed]",
      "text/plain": [
       "<Figure size 1152x288 with 1 Axes>"
      ]
     },
     "metadata": {
      "needs_background": "light"
     },
     "output_type": "display_data"
    }
   ],
   "source": [
    "plot_series(y_train, y_test, fit_MAA.forecast(steps=30),fit_AAM.forecast(steps=30), labels=['Train', 'Test', 'MAA','AAM']);"
   ]
  },
  {
   "cell_type": "code",
   "execution_count": 149,
   "metadata": {},
   "outputs": [
    {
     "data": {
      "text/html": [
       "<div>\n",
       "<style scoped>\n",
       "    .dataframe tbody tr th:only-of-type {\n",
       "        vertical-align: middle;\n",
       "    }\n",
       "\n",
       "    .dataframe tbody tr th {\n",
       "        vertical-align: top;\n",
       "    }\n",
       "\n",
       "    .dataframe thead th {\n",
       "        text-align: right;\n",
       "    }\n",
       "</style>\n",
       "<table border=\"1\" class=\"dataframe\">\n",
       "  <thead>\n",
       "    <tr style=\"text-align: right;\">\n",
       "      <th></th>\n",
       "      <th>mean</th>\n",
       "      <th>mean_numerical</th>\n",
       "      <th>pi_lower</th>\n",
       "      <th>pi_upper</th>\n",
       "    </tr>\n",
       "  </thead>\n",
       "  <tbody>\n",
       "    <tr>\n",
       "      <th>2013-07-31</th>\n",
       "      <td>117.848870</td>\n",
       "      <td>117.791328</td>\n",
       "      <td>107.801711</td>\n",
       "      <td>127.727830</td>\n",
       "    </tr>\n",
       "    <tr>\n",
       "      <th>2013-10-31</th>\n",
       "      <td>117.364671</td>\n",
       "      <td>117.240134</td>\n",
       "      <td>106.689961</td>\n",
       "      <td>127.819580</td>\n",
       "    </tr>\n",
       "    <tr>\n",
       "      <th>2014-01-31</th>\n",
       "      <td>130.725436</td>\n",
       "      <td>130.926953</td>\n",
       "      <td>117.026676</td>\n",
       "      <td>144.387293</td>\n",
       "    </tr>\n",
       "    <tr>\n",
       "      <th>2014-04-30</th>\n",
       "      <td>117.901780</td>\n",
       "      <td>117.837984</td>\n",
       "      <td>102.872624</td>\n",
       "      <td>133.840344</td>\n",
       "    </tr>\n",
       "    <tr>\n",
       "      <th>2014-07-31</th>\n",
       "      <td>121.230477</td>\n",
       "      <td>120.952684</td>\n",
       "      <td>101.299524</td>\n",
       "      <td>140.745150</td>\n",
       "    </tr>\n",
       "    <tr>\n",
       "      <th>2014-10-31</th>\n",
       "      <td>120.746277</td>\n",
       "      <td>120.498117</td>\n",
       "      <td>99.111294</td>\n",
       "      <td>142.844360</td>\n",
       "    </tr>\n",
       "    <tr>\n",
       "      <th>2015-01-31</th>\n",
       "      <td>134.107043</td>\n",
       "      <td>134.022267</td>\n",
       "      <td>108.002289</td>\n",
       "      <td>161.153685</td>\n",
       "    </tr>\n",
       "    <tr>\n",
       "      <th>2015-04-30</th>\n",
       "      <td>121.283386</td>\n",
       "      <td>120.806624</td>\n",
       "      <td>94.245541</td>\n",
       "      <td>150.110434</td>\n",
       "    </tr>\n",
       "    <tr>\n",
       "      <th>2015-07-31</th>\n",
       "      <td>124.612083</td>\n",
       "      <td>124.042070</td>\n",
       "      <td>89.746338</td>\n",
       "      <td>156.711752</td>\n",
       "    </tr>\n",
       "    <tr>\n",
       "      <th>2015-10-31</th>\n",
       "      <td>124.127884</td>\n",
       "      <td>123.207529</td>\n",
       "      <td>86.348033</td>\n",
       "      <td>159.748897</td>\n",
       "    </tr>\n",
       "    <tr>\n",
       "      <th>2016-01-31</th>\n",
       "      <td>137.488649</td>\n",
       "      <td>136.874714</td>\n",
       "      <td>97.825069</td>\n",
       "      <td>178.580193</td>\n",
       "    </tr>\n",
       "    <tr>\n",
       "      <th>2016-04-30</th>\n",
       "      <td>124.664993</td>\n",
       "      <td>123.997222</td>\n",
       "      <td>81.005154</td>\n",
       "      <td>172.730082</td>\n",
       "    </tr>\n",
       "    <tr>\n",
       "      <th>2016-07-31</th>\n",
       "      <td>127.993690</td>\n",
       "      <td>126.937486</td>\n",
       "      <td>78.534574</td>\n",
       "      <td>179.226383</td>\n",
       "    </tr>\n",
       "    <tr>\n",
       "      <th>2016-10-31</th>\n",
       "      <td>127.509490</td>\n",
       "      <td>126.501379</td>\n",
       "      <td>74.750380</td>\n",
       "      <td>184.243277</td>\n",
       "    </tr>\n",
       "    <tr>\n",
       "      <th>2017-01-31</th>\n",
       "      <td>140.870256</td>\n",
       "      <td>139.921112</td>\n",
       "      <td>84.576745</td>\n",
       "      <td>202.998824</td>\n",
       "    </tr>\n",
       "    <tr>\n",
       "      <th>2017-04-30</th>\n",
       "      <td>128.046600</td>\n",
       "      <td>127.238915</td>\n",
       "      <td>68.718847</td>\n",
       "      <td>196.199800</td>\n",
       "    </tr>\n",
       "    <tr>\n",
       "      <th>2017-07-31</th>\n",
       "      <td>131.375296</td>\n",
       "      <td>130.361998</td>\n",
       "      <td>63.510590</td>\n",
       "      <td>209.130419</td>\n",
       "    </tr>\n",
       "    <tr>\n",
       "      <th>2017-10-31</th>\n",
       "      <td>130.891097</td>\n",
       "      <td>129.612120</td>\n",
       "      <td>60.598858</td>\n",
       "      <td>211.102463</td>\n",
       "    </tr>\n",
       "    <tr>\n",
       "      <th>2018-01-31</th>\n",
       "      <td>144.251863</td>\n",
       "      <td>142.970387</td>\n",
       "      <td>70.082079</td>\n",
       "      <td>231.695157</td>\n",
       "    </tr>\n",
       "    <tr>\n",
       "      <th>2018-04-30</th>\n",
       "      <td>131.428206</td>\n",
       "      <td>130.552979</td>\n",
       "      <td>50.995102</td>\n",
       "      <td>224.422155</td>\n",
       "    </tr>\n",
       "    <tr>\n",
       "      <th>2018-07-31</th>\n",
       "      <td>134.756903</td>\n",
       "      <td>133.627180</td>\n",
       "      <td>47.724049</td>\n",
       "      <td>236.455531</td>\n",
       "    </tr>\n",
       "    <tr>\n",
       "      <th>2018-10-31</th>\n",
       "      <td>134.272704</td>\n",
       "      <td>132.882241</td>\n",
       "      <td>42.764209</td>\n",
       "      <td>245.590742</td>\n",
       "    </tr>\n",
       "    <tr>\n",
       "      <th>2019-01-31</th>\n",
       "      <td>147.633469</td>\n",
       "      <td>146.374583</td>\n",
       "      <td>51.867968</td>\n",
       "      <td>268.841514</td>\n",
       "    </tr>\n",
       "    <tr>\n",
       "      <th>2019-04-30</th>\n",
       "      <td>134.809813</td>\n",
       "      <td>133.647906</td>\n",
       "      <td>35.126912</td>\n",
       "      <td>254.771125</td>\n",
       "    </tr>\n",
       "    <tr>\n",
       "      <th>2019-07-31</th>\n",
       "      <td>138.138510</td>\n",
       "      <td>136.690415</td>\n",
       "      <td>32.194124</td>\n",
       "      <td>264.850736</td>\n",
       "    </tr>\n",
       "    <tr>\n",
       "      <th>2019-10-31</th>\n",
       "      <td>137.654310</td>\n",
       "      <td>136.097266</td>\n",
       "      <td>25.379520</td>\n",
       "      <td>276.997582</td>\n",
       "    </tr>\n",
       "    <tr>\n",
       "      <th>2020-01-31</th>\n",
       "      <td>151.015076</td>\n",
       "      <td>149.714529</td>\n",
       "      <td>34.167286</td>\n",
       "      <td>302.583123</td>\n",
       "    </tr>\n",
       "    <tr>\n",
       "      <th>2020-04-30</th>\n",
       "      <td>138.191419</td>\n",
       "      <td>136.721513</td>\n",
       "      <td>18.185987</td>\n",
       "      <td>293.989443</td>\n",
       "    </tr>\n",
       "    <tr>\n",
       "      <th>2020-07-31</th>\n",
       "      <td>141.520116</td>\n",
       "      <td>139.975552</td>\n",
       "      <td>14.756920</td>\n",
       "      <td>304.312887</td>\n",
       "    </tr>\n",
       "    <tr>\n",
       "      <th>2020-10-31</th>\n",
       "      <td>141.035917</td>\n",
       "      <td>139.267776</td>\n",
       "      <td>8.219274</td>\n",
       "      <td>321.905908</td>\n",
       "    </tr>\n",
       "  </tbody>\n",
       "</table>\n",
       "</div>"
      ],
      "text/plain": [
       "                  mean  mean_numerical    pi_lower    pi_upper\n",
       "2013-07-31  117.848870      117.791328  107.801711  127.727830\n",
       "2013-10-31  117.364671      117.240134  106.689961  127.819580\n",
       "2014-01-31  130.725436      130.926953  117.026676  144.387293\n",
       "2014-04-30  117.901780      117.837984  102.872624  133.840344\n",
       "2014-07-31  121.230477      120.952684  101.299524  140.745150\n",
       "2014-10-31  120.746277      120.498117   99.111294  142.844360\n",
       "2015-01-31  134.107043      134.022267  108.002289  161.153685\n",
       "2015-04-30  121.283386      120.806624   94.245541  150.110434\n",
       "2015-07-31  124.612083      124.042070   89.746338  156.711752\n",
       "2015-10-31  124.127884      123.207529   86.348033  159.748897\n",
       "2016-01-31  137.488649      136.874714   97.825069  178.580193\n",
       "2016-04-30  124.664993      123.997222   81.005154  172.730082\n",
       "2016-07-31  127.993690      126.937486   78.534574  179.226383\n",
       "2016-10-31  127.509490      126.501379   74.750380  184.243277\n",
       "2017-01-31  140.870256      139.921112   84.576745  202.998824\n",
       "2017-04-30  128.046600      127.238915   68.718847  196.199800\n",
       "2017-07-31  131.375296      130.361998   63.510590  209.130419\n",
       "2017-10-31  130.891097      129.612120   60.598858  211.102463\n",
       "2018-01-31  144.251863      142.970387   70.082079  231.695157\n",
       "2018-04-30  131.428206      130.552979   50.995102  224.422155\n",
       "2018-07-31  134.756903      133.627180   47.724049  236.455531\n",
       "2018-10-31  134.272704      132.882241   42.764209  245.590742\n",
       "2019-01-31  147.633469      146.374583   51.867968  268.841514\n",
       "2019-04-30  134.809813      133.647906   35.126912  254.771125\n",
       "2019-07-31  138.138510      136.690415   32.194124  264.850736\n",
       "2019-10-31  137.654310      136.097266   25.379520  276.997582\n",
       "2020-01-31  151.015076      149.714529   34.167286  302.583123\n",
       "2020-04-30  138.191419      136.721513   18.185987  293.989443\n",
       "2020-07-31  141.520116      139.975552   14.756920  304.312887\n",
       "2020-10-31  141.035917      139.267776    8.219274  321.905908"
      ]
     },
     "execution_count": 149,
     "metadata": {},
     "output_type": "execute_result"
    }
   ],
   "source": [
    "pred_MAA=fit_MAA.get_prediction(start='2013-07-31', end='2020-10-31')\n",
    "pred_MAA=pred_MAA.summary_frame(alpha=0.05)\n",
    "pred_MAA"
   ]
  },
  {
   "cell_type": "markdown",
   "metadata": {},
   "source": [
    "Get 95% confidence intervals:\n",
    "\n",
    "```pred_MAA=fit_MAA.get_prediction(start='2013-07-31', end='2020-10-31') ```\n",
    "\n",
    "``` pred_MAA=pred_MAA.summary_frame(alpha=0.05) ```\n",
    "\n",
    "Expract upper and lower bounds from ```pred_MAA``` and name them ```upper_int``` and ```lower_int```\n"
   ]
  },
  {
   "cell_type": "code",
   "execution_count": 22,
   "metadata": {},
   "outputs": [
    {
     "ename": "NameError",
     "evalue": "name 'pred_MAA' is not defined",
     "output_type": "error",
     "traceback": [
      "\u001b[1;31m---------------------------------------------------------------------------\u001b[0m",
      "\u001b[1;31mNameError\u001b[0m                                 Traceback (most recent call last)",
      "\u001b[1;32m<ipython-input-22-d6dca8173146>\u001b[0m in \u001b[0;36m<module>\u001b[1;34m\u001b[0m\n\u001b[0;32m      1\u001b[0m \u001b[1;32mimport\u001b[0m \u001b[0mmatplotlib\u001b[0m\u001b[1;33m.\u001b[0m\u001b[0mpyplot\u001b[0m \u001b[1;32mas\u001b[0m \u001b[0mplt\u001b[0m\u001b[1;33m\u001b[0m\u001b[1;33m\u001b[0m\u001b[0m\n\u001b[0;32m      2\u001b[0m \u001b[0mplt\u001b[0m\u001b[1;33m.\u001b[0m\u001b[0mfigure\u001b[0m\u001b[1;33m(\u001b[0m\u001b[0mfigsize\u001b[0m\u001b[1;33m=\u001b[0m\u001b[1;33m(\u001b[0m\u001b[1;36m30\u001b[0m\u001b[1;33m,\u001b[0m\u001b[1;36m6\u001b[0m\u001b[1;33m)\u001b[0m\u001b[1;33m)\u001b[0m\u001b[1;33m\u001b[0m\u001b[1;33m\u001b[0m\u001b[0m\n\u001b[1;32m----> 3\u001b[1;33m \u001b[0mpred_MAA\u001b[0m \u001b[1;33m[\u001b[0m\u001b[1;34m\"pi_lower\"\u001b[0m\u001b[1;33m]\u001b[0m\u001b[1;33m.\u001b[0m\u001b[0mplot\u001b[0m\u001b[1;33m(\u001b[0m\u001b[0mlinestyle\u001b[0m\u001b[1;33m=\u001b[0m\u001b[1;34m'--'\u001b[0m\u001b[1;33m,\u001b[0m \u001b[0mcolor\u001b[0m\u001b[1;33m=\u001b[0m\u001b[1;34m'tab:blue'\u001b[0m\u001b[1;33m,\u001b[0m \u001b[0mlabel\u001b[0m\u001b[1;33m=\u001b[0m\u001b[1;34m'95% interval'\u001b[0m\u001b[1;33m)\u001b[0m\u001b[1;33m\u001b[0m\u001b[1;33m\u001b[0m\u001b[0m\n\u001b[0m\u001b[0;32m      4\u001b[0m \u001b[0mpred_MAA\u001b[0m \u001b[1;33m[\u001b[0m\u001b[1;34m\"pi_upper\"\u001b[0m\u001b[1;33m]\u001b[0m\u001b[1;33m.\u001b[0m\u001b[0mplot\u001b[0m\u001b[1;33m(\u001b[0m\u001b[0mlinestyle\u001b[0m\u001b[1;33m=\u001b[0m\u001b[1;34m'--'\u001b[0m\u001b[1;33m,\u001b[0m \u001b[0mcolor\u001b[0m\u001b[1;33m=\u001b[0m\u001b[1;34m'tab:blue'\u001b[0m\u001b[1;33m,\u001b[0m \u001b[0mlabel\u001b[0m\u001b[1;33m=\u001b[0m\u001b[1;34m'_'\u001b[0m\u001b[1;33m)\u001b[0m\u001b[1;33m\u001b[0m\u001b[1;33m\u001b[0m\u001b[0m\n\u001b[0;32m      5\u001b[0m \u001b[0mpred\u001b[0m\u001b[1;33m.\u001b[0m\u001b[0mendog\u001b[0m\u001b[1;33m.\u001b[0m\u001b[0mplot\u001b[0m\u001b[1;33m(\u001b[0m\u001b[0mlabel\u001b[0m\u001b[1;33m=\u001b[0m\u001b[1;34m'data'\u001b[0m\u001b[1;33m)\u001b[0m\u001b[1;33m\u001b[0m\u001b[1;33m\u001b[0m\u001b[0m\n",
      "\u001b[1;31mNameError\u001b[0m: name 'pred_MAA' is not defined"
     ]
    },
    {
     "data": {
      "text/plain": [
       "<Figure size 2160x432 with 0 Axes>"
      ]
     },
     "metadata": {},
     "output_type": "display_data"
    }
   ],
   "source": [
    "import matplotlib.pyplot as plt\n",
    "plt.figure(figsize=(30,6))\n",
    "pred_MAA [\"pi_lower\"].plot(linestyle='--', color='tab:blue', label='95% interval')\n",
    "pred_MAA [\"pi_upper\"].plot(linestyle='--', color='tab:blue', label='_')\n",
    "pred.endog.plot(label='data')\n",
    "plt.legend()"
   ]
  },
  {
   "cell_type": "markdown",
   "metadata": {},
   "source": [
    "Plot interval predictions:\n",
    "\n",
    "```plot_series()```"
   ]
  },
  {
   "cell_type": "code",
   "execution_count": 135,
   "metadata": {
    "scrolled": true
   },
   "outputs": [
    {
     "name": "stdout",
     "output_type": "stream",
     "text": [
      "\n"
     ]
    }
   ],
   "source": [
    "print()"
   ]
  },
  {
   "cell_type": "markdown",
   "metadata": {},
   "source": [
    "### 2.4 Interval forecasts ETS(AAM) (1 pt.)\n",
    "[back to contents](#Contents)"
   ]
  },
  {
   "cell_type": "markdown",
   "metadata": {},
   "source": [
    "Get 95% confidence intervals:\n",
    "\n",
    "``` pred_AAM=fit_AAM.get_prediction(start='2013-07-31', end='2020-10-31') ```\n",
    "\n",
    "``` pred_AAM=pred_AAM.summary_frame(alpha=0.05) ```\n",
    "\n",
    "Expract upper and lower bounds from ```pred_MAA``` and name them ```upper_int``` and ```lower_int```"
   ]
  },
  {
   "cell_type": "code",
   "execution_count": 156,
   "metadata": {},
   "outputs": [
    {
     "data": {
      "text/html": [
       "<div>\n",
       "<style scoped>\n",
       "    .dataframe tbody tr th:only-of-type {\n",
       "        vertical-align: middle;\n",
       "    }\n",
       "\n",
       "    .dataframe tbody tr th {\n",
       "        vertical-align: top;\n",
       "    }\n",
       "\n",
       "    .dataframe thead th {\n",
       "        text-align: right;\n",
       "    }\n",
       "</style>\n",
       "<table border=\"1\" class=\"dataframe\">\n",
       "  <thead>\n",
       "    <tr style=\"text-align: right;\">\n",
       "      <th></th>\n",
       "      <th>mean</th>\n",
       "      <th>mean_numerical</th>\n",
       "      <th>pi_lower</th>\n",
       "      <th>pi_upper</th>\n",
       "    </tr>\n",
       "  </thead>\n",
       "  <tbody>\n",
       "    <tr>\n",
       "      <th>2013-07-31</th>\n",
       "      <td>117.848870</td>\n",
       "      <td>117.952279</td>\n",
       "      <td>107.556297</td>\n",
       "      <td>127.822616</td>\n",
       "    </tr>\n",
       "    <tr>\n",
       "      <th>2013-10-31</th>\n",
       "      <td>117.364671</td>\n",
       "      <td>117.319630</td>\n",
       "      <td>106.738157</td>\n",
       "      <td>128.371812</td>\n",
       "    </tr>\n",
       "    <tr>\n",
       "      <th>2014-01-31</th>\n",
       "      <td>130.725436</td>\n",
       "      <td>130.469738</td>\n",
       "      <td>116.785235</td>\n",
       "      <td>143.783879</td>\n",
       "    </tr>\n",
       "    <tr>\n",
       "      <th>2014-04-30</th>\n",
       "      <td>117.901780</td>\n",
       "      <td>117.812366</td>\n",
       "      <td>104.027391</td>\n",
       "      <td>132.061646</td>\n",
       "    </tr>\n",
       "    <tr>\n",
       "      <th>2014-07-31</th>\n",
       "      <td>121.230477</td>\n",
       "      <td>120.975912</td>\n",
       "      <td>102.262138</td>\n",
       "      <td>140.482097</td>\n",
       "    </tr>\n",
       "    <tr>\n",
       "      <th>2014-10-31</th>\n",
       "      <td>120.746277</td>\n",
       "      <td>120.626516</td>\n",
       "      <td>99.493484</td>\n",
       "      <td>142.474794</td>\n",
       "    </tr>\n",
       "    <tr>\n",
       "      <th>2015-01-31</th>\n",
       "      <td>134.107043</td>\n",
       "      <td>133.907365</td>\n",
       "      <td>107.003925</td>\n",
       "      <td>160.977796</td>\n",
       "    </tr>\n",
       "    <tr>\n",
       "      <th>2015-04-30</th>\n",
       "      <td>121.283386</td>\n",
       "      <td>121.100500</td>\n",
       "      <td>93.992418</td>\n",
       "      <td>149.404292</td>\n",
       "    </tr>\n",
       "    <tr>\n",
       "      <th>2015-07-31</th>\n",
       "      <td>124.612083</td>\n",
       "      <td>124.417066</td>\n",
       "      <td>90.870755</td>\n",
       "      <td>159.858502</td>\n",
       "    </tr>\n",
       "    <tr>\n",
       "      <th>2015-10-31</th>\n",
       "      <td>124.127884</td>\n",
       "      <td>124.150829</td>\n",
       "      <td>87.534312</td>\n",
       "      <td>163.973533</td>\n",
       "    </tr>\n",
       "    <tr>\n",
       "      <th>2016-01-31</th>\n",
       "      <td>137.488649</td>\n",
       "      <td>137.261384</td>\n",
       "      <td>95.498327</td>\n",
       "      <td>181.467841</td>\n",
       "    </tr>\n",
       "    <tr>\n",
       "      <th>2016-04-30</th>\n",
       "      <td>124.664993</td>\n",
       "      <td>124.667085</td>\n",
       "      <td>80.792077</td>\n",
       "      <td>171.052252</td>\n",
       "    </tr>\n",
       "    <tr>\n",
       "      <th>2016-07-31</th>\n",
       "      <td>127.993690</td>\n",
       "      <td>127.982789</td>\n",
       "      <td>77.613378</td>\n",
       "      <td>184.526076</td>\n",
       "    </tr>\n",
       "    <tr>\n",
       "      <th>2016-10-31</th>\n",
       "      <td>127.509490</td>\n",
       "      <td>127.782483</td>\n",
       "      <td>74.451550</td>\n",
       "      <td>187.605072</td>\n",
       "    </tr>\n",
       "    <tr>\n",
       "      <th>2017-01-31</th>\n",
       "      <td>140.870256</td>\n",
       "      <td>140.963967</td>\n",
       "      <td>80.743015</td>\n",
       "      <td>205.935740</td>\n",
       "    </tr>\n",
       "    <tr>\n",
       "      <th>2017-04-30</th>\n",
       "      <td>128.046600</td>\n",
       "      <td>128.452723</td>\n",
       "      <td>64.905049</td>\n",
       "      <td>193.957872</td>\n",
       "    </tr>\n",
       "    <tr>\n",
       "      <th>2017-07-31</th>\n",
       "      <td>131.375296</td>\n",
       "      <td>131.764214</td>\n",
       "      <td>62.250080</td>\n",
       "      <td>209.270056</td>\n",
       "    </tr>\n",
       "    <tr>\n",
       "      <th>2017-10-31</th>\n",
       "      <td>130.891097</td>\n",
       "      <td>131.398378</td>\n",
       "      <td>57.761457</td>\n",
       "      <td>212.640205</td>\n",
       "    </tr>\n",
       "    <tr>\n",
       "      <th>2018-01-31</th>\n",
       "      <td>144.251863</td>\n",
       "      <td>144.786129</td>\n",
       "      <td>65.043757</td>\n",
       "      <td>234.844645</td>\n",
       "    </tr>\n",
       "    <tr>\n",
       "      <th>2018-04-30</th>\n",
       "      <td>131.428206</td>\n",
       "      <td>132.322270</td>\n",
       "      <td>49.066100</td>\n",
       "      <td>226.214410</td>\n",
       "    </tr>\n",
       "    <tr>\n",
       "      <th>2018-07-31</th>\n",
       "      <td>134.756903</td>\n",
       "      <td>135.335534</td>\n",
       "      <td>47.308899</td>\n",
       "      <td>237.948667</td>\n",
       "    </tr>\n",
       "    <tr>\n",
       "      <th>2018-10-31</th>\n",
       "      <td>134.272704</td>\n",
       "      <td>135.321581</td>\n",
       "      <td>41.153253</td>\n",
       "      <td>242.614696</td>\n",
       "    </tr>\n",
       "    <tr>\n",
       "      <th>2019-01-31</th>\n",
       "      <td>147.633469</td>\n",
       "      <td>148.059965</td>\n",
       "      <td>45.732019</td>\n",
       "      <td>271.140735</td>\n",
       "    </tr>\n",
       "    <tr>\n",
       "      <th>2019-04-30</th>\n",
       "      <td>134.809813</td>\n",
       "      <td>136.002011</td>\n",
       "      <td>33.282027</td>\n",
       "      <td>256.259774</td>\n",
       "    </tr>\n",
       "    <tr>\n",
       "      <th>2019-07-31</th>\n",
       "      <td>138.138510</td>\n",
       "      <td>138.998477</td>\n",
       "      <td>30.927626</td>\n",
       "      <td>274.966809</td>\n",
       "    </tr>\n",
       "    <tr>\n",
       "      <th>2019-10-31</th>\n",
       "      <td>137.654310</td>\n",
       "      <td>138.866810</td>\n",
       "      <td>22.701727</td>\n",
       "      <td>281.379057</td>\n",
       "    </tr>\n",
       "    <tr>\n",
       "      <th>2020-01-31</th>\n",
       "      <td>151.015076</td>\n",
       "      <td>151.913850</td>\n",
       "      <td>30.598243</td>\n",
       "      <td>314.363442</td>\n",
       "    </tr>\n",
       "    <tr>\n",
       "      <th>2020-04-30</th>\n",
       "      <td>138.191419</td>\n",
       "      <td>139.905964</td>\n",
       "      <td>15.829484</td>\n",
       "      <td>294.945333</td>\n",
       "    </tr>\n",
       "    <tr>\n",
       "      <th>2020-07-31</th>\n",
       "      <td>141.520116</td>\n",
       "      <td>143.186922</td>\n",
       "      <td>14.025597</td>\n",
       "      <td>316.743958</td>\n",
       "    </tr>\n",
       "    <tr>\n",
       "      <th>2020-10-31</th>\n",
       "      <td>141.035917</td>\n",
       "      <td>142.617392</td>\n",
       "      <td>6.388397</td>\n",
       "      <td>324.241547</td>\n",
       "    </tr>\n",
       "  </tbody>\n",
       "</table>\n",
       "</div>"
      ],
      "text/plain": [
       "                  mean  mean_numerical    pi_lower    pi_upper\n",
       "2013-07-31  117.848870      117.952279  107.556297  127.822616\n",
       "2013-10-31  117.364671      117.319630  106.738157  128.371812\n",
       "2014-01-31  130.725436      130.469738  116.785235  143.783879\n",
       "2014-04-30  117.901780      117.812366  104.027391  132.061646\n",
       "2014-07-31  121.230477      120.975912  102.262138  140.482097\n",
       "2014-10-31  120.746277      120.626516   99.493484  142.474794\n",
       "2015-01-31  134.107043      133.907365  107.003925  160.977796\n",
       "2015-04-30  121.283386      121.100500   93.992418  149.404292\n",
       "2015-07-31  124.612083      124.417066   90.870755  159.858502\n",
       "2015-10-31  124.127884      124.150829   87.534312  163.973533\n",
       "2016-01-31  137.488649      137.261384   95.498327  181.467841\n",
       "2016-04-30  124.664993      124.667085   80.792077  171.052252\n",
       "2016-07-31  127.993690      127.982789   77.613378  184.526076\n",
       "2016-10-31  127.509490      127.782483   74.451550  187.605072\n",
       "2017-01-31  140.870256      140.963967   80.743015  205.935740\n",
       "2017-04-30  128.046600      128.452723   64.905049  193.957872\n",
       "2017-07-31  131.375296      131.764214   62.250080  209.270056\n",
       "2017-10-31  130.891097      131.398378   57.761457  212.640205\n",
       "2018-01-31  144.251863      144.786129   65.043757  234.844645\n",
       "2018-04-30  131.428206      132.322270   49.066100  226.214410\n",
       "2018-07-31  134.756903      135.335534   47.308899  237.948667\n",
       "2018-10-31  134.272704      135.321581   41.153253  242.614696\n",
       "2019-01-31  147.633469      148.059965   45.732019  271.140735\n",
       "2019-04-30  134.809813      136.002011   33.282027  256.259774\n",
       "2019-07-31  138.138510      138.998477   30.927626  274.966809\n",
       "2019-10-31  137.654310      138.866810   22.701727  281.379057\n",
       "2020-01-31  151.015076      151.913850   30.598243  314.363442\n",
       "2020-04-30  138.191419      139.905964   15.829484  294.945333\n",
       "2020-07-31  141.520116      143.186922   14.025597  316.743958\n",
       "2020-10-31  141.035917      142.617392    6.388397  324.241547"
      ]
     },
     "execution_count": 156,
     "metadata": {},
     "output_type": "execute_result"
    }
   ],
   "source": [
    "pred_AAM=fit_AAM.get_prediction(start='2013-07-31', end='2020-10-31')\n",
    "pred_AAM=pred_AAM.summary_frame(alpha=0.05)\n",
    "pred_AAM"
   ]
  },
  {
   "cell_type": "markdown",
   "metadata": {},
   "source": [
    "Plot interval predictions:\n",
    "\n",
    "```plot_series()```"
   ]
  },
  {
   "cell_type": "code",
   "execution_count": 20,
   "metadata": {
    "scrolled": true
   },
   "outputs": [],
   "source": [
    "# code here (0.5 pt.)"
   ]
  },
  {
   "cell_type": "markdown",
   "metadata": {},
   "source": [
    "### 2.5 Forecast quality metrics (2 pt.)\n",
    "[back to contents](#Contents)"
   ]
  },
  {
   "cell_type": "markdown",
   "metadata": {},
   "source": [
    "Calculate the following metrics for both ETS(MAA) and ETS(AAM) predictions:"
   ]
  },
  {
   "cell_type": "markdown",
   "metadata": {},
   "source": [
    "$MAE = \\frac{\\sum\\limits_{i=1}^n |y_i-\\hat{y}_i|}{n}$\n",
    "\n",
    "```python\n",
    "sklearn.metrics.mean_absolute_error\n",
    "```"
   ]
  },
  {
   "cell_type": "code",
   "execution_count": 21,
   "metadata": {},
   "outputs": [],
   "source": [
    "# code here (0.5 pt.) MAA"
   ]
  },
  {
   "cell_type": "code",
   "execution_count": 22,
   "metadata": {},
   "outputs": [],
   "source": [
    "# code here (0.5 pt.) AAM"
   ]
  },
  {
   "cell_type": "markdown",
   "metadata": {},
   "source": [
    "$MSE = \\frac{\\sum\\limits_{i=1}^n (y_i-\\hat{y}_i)^2}{n}$\n",
    "\n",
    "```python\n",
    "sklearn.metrics.mean_squared_error\n",
    "```"
   ]
  },
  {
   "cell_type": "code",
   "execution_count": 23,
   "metadata": {},
   "outputs": [],
   "source": [
    "# code here (0.5 pt.) MAA"
   ]
  },
  {
   "cell_type": "code",
   "execution_count": 24,
   "metadata": {},
   "outputs": [],
   "source": [
    "# code here (0.5 pt.) AAM"
   ]
  },
  {
   "cell_type": "markdown",
   "metadata": {},
   "source": [
    "$MAPE = \\frac{100}{n}\\frac{\\sum\\limits_{i=1}^n |y_i-\\hat{y}_i|}{y_i}$ \n",
    "\n",
    "```python\n",
    "def mean_absolute_percentage_error(y_true, y_pred): \n",
    "    return np.mean(np.abs((y_true - y_pred) / y_true)) * 100\n",
    "```"
   ]
  },
  {
   "cell_type": "markdown",
   "metadata": {},
   "source": [
    "Create a new function to calculate MAPE"
   ]
  },
  {
   "cell_type": "code",
   "execution_count": 25,
   "metadata": {},
   "outputs": [],
   "source": [
    "# code here (0.5 pt.)"
   ]
  },
  {
   "cell_type": "markdown",
   "metadata": {},
   "source": [
    "Calculate MAPE:"
   ]
  },
  {
   "cell_type": "code",
   "execution_count": 26,
   "metadata": {},
   "outputs": [],
   "source": [
    "# code here (0.25 pt.) MAA"
   ]
  },
  {
   "cell_type": "code",
   "execution_count": 27,
   "metadata": {},
   "outputs": [],
   "source": [
    "# code here (0.25 pt.) AAM"
   ]
  },
  {
   "cell_type": "markdown",
   "metadata": {},
   "source": [
    "### 2.6 What is the best model according to the metrics above? (1 pt.)"
   ]
  },
  {
   "cell_type": "code",
   "execution_count": 28,
   "metadata": {},
   "outputs": [],
   "source": [
    "# code here (1 pt.)"
   ]
  }
 ],
 "metadata": {
  "kernelspec": {
   "display_name": "Python 3",
   "language": "python",
   "name": "python3"
  },
  "language_info": {
   "codemirror_mode": {
    "name": "ipython",
    "version": 3
   },
   "file_extension": ".py",
   "mimetype": "text/x-python",
   "name": "python",
   "nbconvert_exporter": "python",
   "pygments_lexer": "ipython3",
   "version": "3.8.5"
  }
 },
 "nbformat": 4,
 "nbformat_minor": 2
}
